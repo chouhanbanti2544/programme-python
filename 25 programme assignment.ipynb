{
 "cells": [
  {
   "cell_type": "markdown",
   "id": "fbdad794",
   "metadata": {},
   "source": [
    "Question1\n",
    "Create a function that takes three integer arguments (a, b, c) and returns the amount of integers which are of equal value.\n",
    "Examples\n",
    "equal(3, 4, 3) ➞ 2\n",
    "\n",
    "equal(1, 1, 1) ➞ 3\n",
    "\n",
    "equal(3, 4, 1) ➞ 0 \n"
   ]
  },
  {
   "cell_type": "code",
   "execution_count": 9,
   "id": "9553e0e8",
   "metadata": {},
   "outputs": [
    {
     "name": "stdout",
     "output_type": "stream",
     "text": [
      "(1, 1, 1) - 3\n",
      "(2, 2, 3) - 2\n"
     ]
    }
   ],
   "source": [
    "def equal(a,b,c):\n",
    "    if  a==b==c:\n",
    "        print(f\"{a,b,c} - {3}\")\n",
    "        \n",
    "    elif a==b or b==c:\n",
    "        print(f\"{a,b,c} - {2}\")\n",
    "        \n",
    "    else:\n",
    "        print(f\"{a,b,c} - {0}\")\n",
    "        \n",
    "equal(1,1,1) \n",
    "equal(2,2,3)"
   ]
  },
  {
   "cell_type": "markdown",
   "id": "7e4a9bd4",
   "metadata": {},
   "source": [
    "Question2\n",
    "Write a function that converts a dictionary into a list of keys-values tuples.\n",
    "Examples\n",
    "dict_to_list({\n",
    "  \"D\": 1,\n",
    "  \"B\": 2,\n",
    "  \"C\": 3\n",
    "}) ➞ [(\"B\", 2), (\"C\", 3), (\"D\", 1)]\n",
    "\n",
    "dict_to_list({\n",
    "  \"likes\": 2,\n",
    "  \"dislikes\": 3,\n",
    "  \"followers\": 10\n",
    "}) ➞ [(\"dislikes\", 3), (\"followers\", 10), (\"likes\", 2)]\n",
    "Notes\n",
    "Return the elements in the list in alphabetical order.\n"
   ]
  },
  {
   "cell_type": "code",
   "execution_count": 23,
   "id": "b2147aa3",
   "metadata": {},
   "outputs": [
    {
     "name": "stdout",
     "output_type": "stream",
     "text": [
      "{'likes': 2, 'dislikes': 3, 'followers': 10}  - [('likes', 2), ('dislikes', 3), ('followers', 10)]\n"
     ]
    }
   ],
   "source": [
    "def dict_to_list(dicts):\n",
    "    p = []\n",
    "    for keys,values in dicts.items():\n",
    "        p.append((keys,values))\n",
    "        \n",
    "    print(f\"{dicts}  - {p}\")\n",
    "        \n",
    "dict_to_list({ \"likes\": 2, \"dislikes\": 3, \"followers\": 10 })\n"
   ]
  },
  {
   "cell_type": "markdown",
   "id": "fc714b97",
   "metadata": {},
   "source": [
    "Question3\n",
    "Write a function that creates a dictionary with each (key, value) pair being the (lower case, upper case) versions of a letter, respectively.\n",
    "Examples\n",
    "mapping([\"p\", \"s\"]) ➞ { \"p\": \"P\", \"s\": \"S\" }\n"
   ]
  },
  {
   "cell_type": "code",
   "execution_count": 177,
   "id": "aedb61d7",
   "metadata": {},
   "outputs": [
    {
     "data": {
      "text/plain": [
       "{'p': 'P', 's': 'S'}"
      ]
     },
     "execution_count": 177,
     "metadata": {},
     "output_type": "execute_result"
    }
   ],
   "source": [
    "def mapping(a):\n",
    "    y = \"\"\n",
    "    u = \"\"\n",
    "    for i in a:\n",
    "        y = y+i\n",
    "        u = u+i.upper()\n",
    "\n",
    "\n",
    "    p = dict(zip(y,u))\n",
    "    return p\n",
    "    \n",
    "\n",
    "mapping([\"p\",\"s\"])       "
   ]
  },
  {
   "cell_type": "markdown",
   "id": "026db043",
   "metadata": {},
   "source": [
    "Question4\n",
    "Write a function, that replaces all vowels in a string with a specified vowel.\n",
    "Examples\n",
    "vow_replace(\"apples and bananas\", \"u\") ➞ \"upplus und bununus\"\n",
    "\n",
    "vow_replace(\"cheese casserole\", \"o\") ➞ \"chooso cossorolo\"\n",
    "\n",
    "vow_replace(\"stuffed jalapeno poppers\", \"e\") ➞ \"steffed jelepene peppers\"\n",
    "Notes\n",
    "All words will be lowercase. Y is not considered a vowel.\n",
    "\n"
   ]
  },
  {
   "cell_type": "code",
   "execution_count": 162,
   "id": "52723b28",
   "metadata": {},
   "outputs": [
    {
     "data": {
      "text/plain": [
       "'steffed jelepene peppers'"
      ]
     },
     "execution_count": 162,
     "metadata": {},
     "output_type": "execute_result"
    }
   ],
   "source": [
    "\n",
    "def vow_replace(a,b):\n",
    "    o = \"AEIOUaeiou\"\n",
    "    k = []\n",
    "    for i in range(len(a)):\n",
    "        if a[i] in o:\n",
    "            k.append(b)\n",
    "            \n",
    "        else:\n",
    "            k.append(a[i])\n",
    "            \n",
    "    return \"\".join(k)\n",
    "\n",
    "            \n",
    "    \n",
    "    \n",
    "   \n",
    "vow_replace(\"stuffed jalapeno poppers\", \"e\")      \n"
   ]
  },
  {
   "cell_type": "markdown",
   "id": "51327978",
   "metadata": {},
   "source": [
    "Question5\n",
    "Create a function that takes a string as input and capitalizes a letter if its ASCII code is even\n",
    "and returns its lower case version if its ASCII code is odd.\n",
    "Examples\n",
    "ascii_capitalize('to be or not to be!') ➞ 'To Be oR NoT To Be!'\n",
    "ascii_capitalize('THE LITTLE MERMAID') ➞ 'THe LiTTLe meRmaiD'\n",
    "ascii_capitalize('Oh what a beautiful morning.') ➞ 'oH wHaT a BeauTiFuL\n",
    "moRNiNg.'"
   ]
  },
  {
   "cell_type": "code",
   "execution_count": 140,
   "id": "aa93fa94",
   "metadata": {},
   "outputs": [
    {
     "data": {
      "text/plain": [
       "'ThE LiTtLe mErMaId'"
      ]
     },
     "execution_count": 140,
     "metadata": {},
     "output_type": "execute_result"
    }
   ],
   "source": [
    "def ascii_capitalize(b):\n",
    "    \n",
    "    a = []\n",
    "    for i in range(len(b)):\n",
    "        if i%2==0:\n",
    "            a.append(b[i].upper())\n",
    "\n",
    "        else:\n",
    "            a.append(b[i].lower())\n",
    "        \n",
    "    return \"\".join((a))\n",
    "\n",
    "\n",
    "ascii_capitalize('Oh what a beautiful morning.')"
   ]
  },
  {
   "cell_type": "code",
   "execution_count": 179,
   "id": "fc66c76b",
   "metadata": {},
   "outputs": [
    {
     "data": {
      "text/plain": [
       "'Oh wHaT A BeAuTiFuL MoRnInG.'"
      ]
     },
     "execution_count": 179,
     "metadata": {},
     "output_type": "execute_result"
    }
   ],
   "source": [
    "ascii_capitalize('Oh what a beautiful morning.')"
   ]
  },
  {
   "cell_type": "code",
   "execution_count": 178,
   "id": "aa83747a",
   "metadata": {},
   "outputs": [
    {
     "data": {
      "text/plain": [
       "'To bE Or nOt tO Be!'"
      ]
     },
     "execution_count": 178,
     "metadata": {},
     "output_type": "execute_result"
    }
   ],
   "source": [
    "ascii_capitalize('to be or not to be!')"
   ]
  },
  {
   "cell_type": "code",
   "execution_count": null,
   "id": "980f0efa",
   "metadata": {},
   "outputs": [],
   "source": []
  }
 ],
 "metadata": {
  "kernelspec": {
   "display_name": "Python 3 (ipykernel)",
   "language": "python",
   "name": "python3"
  },
  "language_info": {
   "codemirror_mode": {
    "name": "ipython",
    "version": 3
   },
   "file_extension": ".py",
   "mimetype": "text/x-python",
   "name": "python",
   "nbconvert_exporter": "python",
   "pygments_lexer": "ipython3",
   "version": "3.10.7"
  }
 },
 "nbformat": 4,
 "nbformat_minor": 5
}
